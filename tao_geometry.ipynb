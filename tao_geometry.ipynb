{
 "cells": [
  {
   "cell_type": "code",
   "execution_count": 1,
   "metadata": {},
   "outputs": [],
   "source": [
    "import pandas as pd\n",
    "import numpy as np"
   ]
  },
  {
   "cell_type": "code",
   "execution_count": 2,
   "metadata": {},
   "outputs": [],
   "source": [
    "sipm_pos = pd.read_csv('geometry/sipm_pos.csv', sep=' ', header=None)"
   ]
  },
  {
   "cell_type": "code",
   "execution_count": 3,
   "metadata": {},
   "outputs": [],
   "source": [
    "sipm_pos.columns = ['R', 'theta', 'phi']\n",
    "sipm_pos['theta'] = np.deg2rad(sipm_pos['theta'])\n",
    "sipm_pos['phi'] = np.deg2rad(sipm_pos['phi'])\n",
    "sipm_pos['R'] = 938"
   ]
  },
  {
   "cell_type": "code",
   "execution_count": 4,
   "metadata": {},
   "outputs": [],
   "source": [
    "sipm_pos['X'] = sipm_pos['R'] * np.sin(sipm_pos['theta']) * np.cos(sipm_pos['phi'])\n",
    "sipm_pos['Y'] = sipm_pos['R'] * np.sin(sipm_pos['theta']) * np.sin(sipm_pos['phi'])\n",
    "sipm_pos['Z'] = sipm_pos['R'] * np.cos(sipm_pos['theta'])"
   ]
  },
  {
   "cell_type": "code",
   "execution_count": 5,
   "metadata": {},
   "outputs": [],
   "source": [
    "sipm_pos[[\"X\", \"Y\", \"Z\"]].to_csv('geometry/sipm_pos_xyz.csv', index=False)"
   ]
  },
  {
   "cell_type": "code",
   "execution_count": null,
   "metadata": {},
   "outputs": [],
   "source": []
  }
 ],
 "metadata": {
  "kernelspec": {
   "display_name": "Python 3",
   "language": "python",
   "name": "python3"
  },
  "language_info": {
   "codemirror_mode": {
    "name": "ipython",
    "version": 3
   },
   "file_extension": ".py",
   "mimetype": "text/x-python",
   "name": "python",
   "nbconvert_exporter": "python",
   "pygments_lexer": "ipython3",
   "version": "3.8.5"
  }
 },
 "nbformat": 4,
 "nbformat_minor": 4
}
