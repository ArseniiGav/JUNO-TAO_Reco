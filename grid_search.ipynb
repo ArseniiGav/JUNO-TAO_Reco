{
 "cells": [
  {
   "cell_type": "code",
   "execution_count": 1,
   "metadata": {},
   "outputs": [],
   "source": [
    "import numpy as np\n",
    "import pandas as pd\n",
    "from tqdm.notebook import tqdm\n",
    "import pickle\n",
    "from xgboost import XGBRegressor\n",
    "\n",
    "import plotly.graph_objs as go\n",
    "from plotly.subplots import make_subplots\n",
    "\n",
    "import plotly.io as pio\n",
    "pio.templates.default = 'plotly_white'\n",
    "\n",
    "import warnings\n",
    "warnings.filterwarnings(\"ignore\")"
   ]
  },
  {
   "cell_type": "code",
   "execution_count": 2,
   "metadata": {},
   "outputs": [],
   "source": [
    "opt_features = ['AccumCharge', 'rho_cc', 'pe_90p', 'R_cht', 'ht_55p',\n",
    "                'pe_mean', 'ht_5p', 'pe_80p', 'pe_std', 'pe_70p', 'nPMTs']\n",
    "opt_features += ['edep']\n",
    "\n",
    "path = \"/mnt/cephfs/ml_data/TAO_detsim_J22/\"\n",
    "data = pd.read_csv(f'{path}processed_data/ProcessedTrain/ProcessedTrain.csv.gz')"
   ]
  },
  {
   "cell_type": "code",
   "execution_count": 3,
   "metadata": {},
   "outputs": [
    {
     "data": {
      "text/plain": [
       "(1150000, 12)"
      ]
     },
     "execution_count": 3,
     "metadata": {},
     "output_type": "execute_result"
    }
   ],
   "source": [
    "FC_cut = 0.65\n",
    "N = int(1.15e6)\n",
    "\n",
    "data = data.reset_index(drop=True)\n",
    "data = data[data['edepR'] < FC_cut][opt_features][:N]\n",
    "data.shape"
   ]
  },
  {
   "cell_type": "code",
   "execution_count": 4,
   "metadata": {},
   "outputs": [],
   "source": [
    "n_feats = len(data.columns)-1"
   ]
  },
  {
   "cell_type": "code",
   "execution_count": 5,
   "metadata": {},
   "outputs": [
    {
     "data": {
      "text/plain": [
       "11"
      ]
     },
     "execution_count": 5,
     "metadata": {},
     "output_type": "execute_result"
    }
   ],
   "source": [
    "n_feats"
   ]
  },
  {
   "cell_type": "code",
   "execution_count": 6,
   "metadata": {},
   "outputs": [],
   "source": [
    "from sklearn.metrics import mean_squared_error\n",
    "\n",
    "def mean_absolute_percentage_error(y_true, y_pred): \n",
    "    y_true, y_pred = np.array(y_true), np.array(y_pred)\n",
    "    return np.mean(np.abs((y_true - y_pred) / y_true)) * 100"
   ]
  },
  {
   "cell_type": "code",
   "execution_count": 7,
   "metadata": {},
   "outputs": [],
   "source": [
    "rand_indexes = np.random.randint(0, data.shape[0], int(0.1*data.shape[0]))\n",
    "val_indexes = np.zeros(data.shape[0], bool)\n",
    "val_indexes[rand_indexes] = 1\n",
    "\n",
    "data_val = data[val_indexes]\n",
    "data_train = data[np.logical_not(val_indexes)]"
   ]
  },
  {
   "cell_type": "code",
   "execution_count": 8,
   "metadata": {},
   "outputs": [],
   "source": [
    "from sklearn.model_selection import KFold\n",
    "\n",
    "n_folds = 4\n",
    "kfold = KFold(n_folds, True, random_state=22)\n",
    "trains = []\n",
    "tests = []\n",
    "for train, test in kfold.split(data_train):\n",
    "    trains.append(np.array(data_train)[train])\n",
    "    tests.append(np.array(data_train)[test])"
   ]
  },
  {
   "cell_type": "code",
   "execution_count": 9,
   "metadata": {},
   "outputs": [],
   "source": [
    "scores_dict = {}\n",
    "val_scores_dict = {}\n",
    "n_estimators_dict = {}\n",
    "test_scores_dict = {}"
   ]
  },
  {
   "cell_type": "code",
   "execution_count": 10,
   "metadata": {},
   "outputs": [],
   "source": [
    "max_depths = range(5, 15)"
   ]
  },
  {
   "cell_type": "code",
   "execution_count": 11,
   "metadata": {},
   "outputs": [],
   "source": [
    "data_val = np.array(data_val)"
   ]
  },
  {
   "cell_type": "code",
   "execution_count": 12,
   "metadata": {},
   "outputs": [
    {
     "data": {
      "application/vnd.jupyter.widget-view+json": {
       "model_id": "4cc65550acad4d4b89f35997c6d73a57",
       "version_major": 2,
       "version_minor": 0
      },
      "text/plain": [
       "Max depths:   0%|          | 0/10 [00:00<?, ?it/s]"
      ]
     },
     "metadata": {},
     "output_type": "display_data"
    },
    {
     "data": {
      "application/vnd.jupyter.widget-view+json": {
       "model_id": "6d913b57d27f48fe842784477c8d7266",
       "version_major": 2,
       "version_minor": 0
      },
      "text/plain": [
       "Folds... :   0%|          | 0/4 [00:00<?, ?it/s]"
      ]
     },
     "metadata": {},
     "output_type": "display_data"
    },
    {
     "name": "stdout",
     "output_type": "stream",
     "text": [
      "[17:04:56] WARNING: ../src/learner.cc:339: No visible GPU is found, setting `gpu_id` to -1\n"
     ]
    },
    {
     "ename": "XGBoostError",
     "evalue": "[17:04:56] ../src/gbm/gbtree.cc:611: Check failed: common::AllVisibleGPUs() >= 1 (0 vs. 1) : No visible GPU is found for XGBoost.\nStack trace:\n  [bt] (0) /home/arsde/.local/lib/python3.8/site-packages/xgboost/lib/libxgboost.so(+0x29da59) [0x7fd7c39a2a59]\n  [bt] (1) /home/arsde/.local/lib/python3.8/site-packages/xgboost/lib/libxgboost.so(+0x29ed02) [0x7fd7c39a3d02]\n  [bt] (2) /home/arsde/.local/lib/python3.8/site-packages/xgboost/lib/libxgboost.so(+0x29f0ba) [0x7fd7c39a40ba]\n  [bt] (3) /home/arsde/.local/lib/python3.8/site-packages/xgboost/lib/libxgboost.so(+0x2ddccd) [0x7fd7c39e2ccd]\n  [bt] (4) /home/arsde/.local/lib/python3.8/site-packages/xgboost/lib/libxgboost.so(XGBoosterUpdateOneIter+0x70) [0x7fd7c3833000]\n  [bt] (5) /lib/x86_64-linux-gnu/libffi.so.7(+0x6ff5) [0x7fd8dcde4ff5]\n  [bt] (6) /lib/x86_64-linux-gnu/libffi.so.7(+0x640a) [0x7fd8dcde440a]\n  [bt] (7) /usr/lib/python3.8/lib-dynload/_ctypes.cpython-38-x86_64-linux-gnu.so(_ctypes_callproc+0x5b6) [0x7fd8dbe8b316]\n  [bt] (8) /usr/lib/python3.8/lib-dynload/_ctypes.cpython-38-x86_64-linux-gnu.so(+0x139ec) [0x7fd8dbe8b9ec]\n\n",
     "output_type": "error",
     "traceback": [
      "\u001b[0;31m---------------------------------------------------------------------------\u001b[0m",
      "\u001b[0;31mXGBoostError\u001b[0m                              Traceback (most recent call last)",
      "\u001b[0;32m<ipython-input-12-591e9b5a0cfb>\u001b[0m in \u001b[0;36m<module>\u001b[0;34m\u001b[0m\n\u001b[1;32m     19\u001b[0m         )\n\u001b[1;32m     20\u001b[0m \u001b[0;34m\u001b[0m\u001b[0m\n\u001b[0;32m---> 21\u001b[0;31m         model.fit(trains[i][:, :n_feats], trains[i][:, n_feats], verbose=False,\n\u001b[0m\u001b[1;32m     22\u001b[0m                    \u001b[0meval_set\u001b[0m\u001b[0;34m=\u001b[0m\u001b[0;34m[\u001b[0m\u001b[0;34m(\u001b[0m\u001b[0mdata_val\u001b[0m\u001b[0;34m[\u001b[0m\u001b[0;34m:\u001b[0m\u001b[0;34m,\u001b[0m \u001b[0;34m:\u001b[0m\u001b[0mn_feats\u001b[0m\u001b[0;34m]\u001b[0m\u001b[0;34m,\u001b[0m \u001b[0mdata_val\u001b[0m\u001b[0;34m[\u001b[0m\u001b[0;34m:\u001b[0m\u001b[0;34m,\u001b[0m \u001b[0mn_feats\u001b[0m\u001b[0;34m]\u001b[0m\u001b[0;34m)\u001b[0m\u001b[0;34m]\u001b[0m\u001b[0;34m,\u001b[0m\u001b[0;34m\u001b[0m\u001b[0;34m\u001b[0m\u001b[0m\n\u001b[1;32m     23\u001b[0m                    early_stopping_rounds=5)\n",
      "\u001b[0;32m~/.local/lib/python3.8/site-packages/xgboost/core.py\u001b[0m in \u001b[0;36minner_f\u001b[0;34m(*args, **kwargs)\u001b[0m\n\u001b[1;32m    618\u001b[0m             \u001b[0;32mfor\u001b[0m \u001b[0mk\u001b[0m\u001b[0;34m,\u001b[0m \u001b[0marg\u001b[0m \u001b[0;32min\u001b[0m \u001b[0mzip\u001b[0m\u001b[0;34m(\u001b[0m\u001b[0msig\u001b[0m\u001b[0;34m.\u001b[0m\u001b[0mparameters\u001b[0m\u001b[0;34m,\u001b[0m \u001b[0margs\u001b[0m\u001b[0;34m)\u001b[0m\u001b[0;34m:\u001b[0m\u001b[0;34m\u001b[0m\u001b[0;34m\u001b[0m\u001b[0m\n\u001b[1;32m    619\u001b[0m                 \u001b[0mkwargs\u001b[0m\u001b[0;34m[\u001b[0m\u001b[0mk\u001b[0m\u001b[0;34m]\u001b[0m \u001b[0;34m=\u001b[0m \u001b[0marg\u001b[0m\u001b[0;34m\u001b[0m\u001b[0;34m\u001b[0m\u001b[0m\n\u001b[0;32m--> 620\u001b[0;31m             \u001b[0;32mreturn\u001b[0m \u001b[0mfunc\u001b[0m\u001b[0;34m(\u001b[0m\u001b[0;34m**\u001b[0m\u001b[0mkwargs\u001b[0m\u001b[0;34m)\u001b[0m\u001b[0;34m\u001b[0m\u001b[0;34m\u001b[0m\u001b[0m\n\u001b[0m\u001b[1;32m    621\u001b[0m \u001b[0;34m\u001b[0m\u001b[0m\n\u001b[1;32m    622\u001b[0m         \u001b[0;32mreturn\u001b[0m \u001b[0minner_f\u001b[0m\u001b[0;34m\u001b[0m\u001b[0;34m\u001b[0m\u001b[0m\n",
      "\u001b[0;32m~/.local/lib/python3.8/site-packages/xgboost/sklearn.py\u001b[0m in \u001b[0;36mfit\u001b[0;34m(self, X, y, sample_weight, base_margin, eval_set, eval_metric, early_stopping_rounds, verbose, xgb_model, sample_weight_eval_set, base_margin_eval_set, feature_weights, callbacks)\u001b[0m\n\u001b[1;32m   1049\u001b[0m                 \u001b[0mxgb_model\u001b[0m\u001b[0;34m,\u001b[0m \u001b[0meval_metric\u001b[0m\u001b[0;34m,\u001b[0m \u001b[0mparams\u001b[0m\u001b[0;34m,\u001b[0m \u001b[0mearly_stopping_rounds\u001b[0m\u001b[0;34m,\u001b[0m \u001b[0mcallbacks\u001b[0m\u001b[0;34m\u001b[0m\u001b[0;34m\u001b[0m\u001b[0m\n\u001b[1;32m   1050\u001b[0m             )\n\u001b[0;32m-> 1051\u001b[0;31m             self._Booster = train(\n\u001b[0m\u001b[1;32m   1052\u001b[0m                 \u001b[0mparams\u001b[0m\u001b[0;34m,\u001b[0m\u001b[0;34m\u001b[0m\u001b[0;34m\u001b[0m\u001b[0m\n\u001b[1;32m   1053\u001b[0m                 \u001b[0mtrain_dmatrix\u001b[0m\u001b[0;34m,\u001b[0m\u001b[0;34m\u001b[0m\u001b[0;34m\u001b[0m\u001b[0m\n",
      "\u001b[0;32m~/.local/lib/python3.8/site-packages/xgboost/core.py\u001b[0m in \u001b[0;36minner_f\u001b[0;34m(*args, **kwargs)\u001b[0m\n\u001b[1;32m    618\u001b[0m             \u001b[0;32mfor\u001b[0m \u001b[0mk\u001b[0m\u001b[0;34m,\u001b[0m \u001b[0marg\u001b[0m \u001b[0;32min\u001b[0m \u001b[0mzip\u001b[0m\u001b[0;34m(\u001b[0m\u001b[0msig\u001b[0m\u001b[0;34m.\u001b[0m\u001b[0mparameters\u001b[0m\u001b[0;34m,\u001b[0m \u001b[0margs\u001b[0m\u001b[0;34m)\u001b[0m\u001b[0;34m:\u001b[0m\u001b[0;34m\u001b[0m\u001b[0;34m\u001b[0m\u001b[0m\n\u001b[1;32m    619\u001b[0m                 \u001b[0mkwargs\u001b[0m\u001b[0;34m[\u001b[0m\u001b[0mk\u001b[0m\u001b[0;34m]\u001b[0m \u001b[0;34m=\u001b[0m \u001b[0marg\u001b[0m\u001b[0;34m\u001b[0m\u001b[0;34m\u001b[0m\u001b[0m\n\u001b[0;32m--> 620\u001b[0;31m             \u001b[0;32mreturn\u001b[0m \u001b[0mfunc\u001b[0m\u001b[0;34m(\u001b[0m\u001b[0;34m**\u001b[0m\u001b[0mkwargs\u001b[0m\u001b[0;34m)\u001b[0m\u001b[0;34m\u001b[0m\u001b[0;34m\u001b[0m\u001b[0m\n\u001b[0m\u001b[1;32m    621\u001b[0m \u001b[0;34m\u001b[0m\u001b[0m\n\u001b[1;32m    622\u001b[0m         \u001b[0;32mreturn\u001b[0m \u001b[0minner_f\u001b[0m\u001b[0;34m\u001b[0m\u001b[0;34m\u001b[0m\u001b[0m\n",
      "\u001b[0;32m~/.local/lib/python3.8/site-packages/xgboost/training.py\u001b[0m in \u001b[0;36mtrain\u001b[0;34m(params, dtrain, num_boost_round, evals, obj, feval, maximize, early_stopping_rounds, evals_result, verbose_eval, xgb_model, callbacks, custom_metric)\u001b[0m\n\u001b[1;32m    183\u001b[0m         \u001b[0;32mif\u001b[0m \u001b[0mcb_container\u001b[0m\u001b[0;34m.\u001b[0m\u001b[0mbefore_iteration\u001b[0m\u001b[0;34m(\u001b[0m\u001b[0mbst\u001b[0m\u001b[0;34m,\u001b[0m \u001b[0mi\u001b[0m\u001b[0;34m,\u001b[0m \u001b[0mdtrain\u001b[0m\u001b[0;34m,\u001b[0m \u001b[0mevals\u001b[0m\u001b[0;34m)\u001b[0m\u001b[0;34m:\u001b[0m\u001b[0;34m\u001b[0m\u001b[0;34m\u001b[0m\u001b[0m\n\u001b[1;32m    184\u001b[0m             \u001b[0;32mbreak\u001b[0m\u001b[0;34m\u001b[0m\u001b[0;34m\u001b[0m\u001b[0m\n\u001b[0;32m--> 185\u001b[0;31m         \u001b[0mbst\u001b[0m\u001b[0;34m.\u001b[0m\u001b[0mupdate\u001b[0m\u001b[0;34m(\u001b[0m\u001b[0mdtrain\u001b[0m\u001b[0;34m,\u001b[0m \u001b[0mi\u001b[0m\u001b[0;34m,\u001b[0m \u001b[0mobj\u001b[0m\u001b[0;34m)\u001b[0m\u001b[0;34m\u001b[0m\u001b[0;34m\u001b[0m\u001b[0m\n\u001b[0m\u001b[1;32m    186\u001b[0m         \u001b[0;32mif\u001b[0m \u001b[0mcb_container\u001b[0m\u001b[0;34m.\u001b[0m\u001b[0mafter_iteration\u001b[0m\u001b[0;34m(\u001b[0m\u001b[0mbst\u001b[0m\u001b[0;34m,\u001b[0m \u001b[0mi\u001b[0m\u001b[0;34m,\u001b[0m \u001b[0mdtrain\u001b[0m\u001b[0;34m,\u001b[0m \u001b[0mevals\u001b[0m\u001b[0;34m)\u001b[0m\u001b[0;34m:\u001b[0m\u001b[0;34m\u001b[0m\u001b[0;34m\u001b[0m\u001b[0m\n\u001b[1;32m    187\u001b[0m             \u001b[0;32mbreak\u001b[0m\u001b[0;34m\u001b[0m\u001b[0;34m\u001b[0m\u001b[0m\n",
      "\u001b[0;32m~/.local/lib/python3.8/site-packages/xgboost/core.py\u001b[0m in \u001b[0;36mupdate\u001b[0;34m(self, dtrain, iteration, fobj)\u001b[0m\n\u001b[1;32m   1916\u001b[0m \u001b[0;34m\u001b[0m\u001b[0m\n\u001b[1;32m   1917\u001b[0m         \u001b[0;32mif\u001b[0m \u001b[0mfobj\u001b[0m \u001b[0;32mis\u001b[0m \u001b[0;32mNone\u001b[0m\u001b[0;34m:\u001b[0m\u001b[0;34m\u001b[0m\u001b[0;34m\u001b[0m\u001b[0m\n\u001b[0;32m-> 1918\u001b[0;31m             _check_call(_LIB.XGBoosterUpdateOneIter(self.handle,\n\u001b[0m\u001b[1;32m   1919\u001b[0m                                                     \u001b[0mctypes\u001b[0m\u001b[0;34m.\u001b[0m\u001b[0mc_int\u001b[0m\u001b[0;34m(\u001b[0m\u001b[0miteration\u001b[0m\u001b[0;34m)\u001b[0m\u001b[0;34m,\u001b[0m\u001b[0;34m\u001b[0m\u001b[0;34m\u001b[0m\u001b[0m\n\u001b[1;32m   1920\u001b[0m                                                     dtrain.handle))\n",
      "\u001b[0;32m~/.local/lib/python3.8/site-packages/xgboost/core.py\u001b[0m in \u001b[0;36m_check_call\u001b[0;34m(ret)\u001b[0m\n\u001b[1;32m    277\u001b[0m     \"\"\"\n\u001b[1;32m    278\u001b[0m     \u001b[0;32mif\u001b[0m \u001b[0mret\u001b[0m \u001b[0;34m!=\u001b[0m \u001b[0;36m0\u001b[0m\u001b[0;34m:\u001b[0m\u001b[0;34m\u001b[0m\u001b[0;34m\u001b[0m\u001b[0m\n\u001b[0;32m--> 279\u001b[0;31m         \u001b[0;32mraise\u001b[0m \u001b[0mXGBoostError\u001b[0m\u001b[0;34m(\u001b[0m\u001b[0mpy_str\u001b[0m\u001b[0;34m(\u001b[0m\u001b[0m_LIB\u001b[0m\u001b[0;34m.\u001b[0m\u001b[0mXGBGetLastError\u001b[0m\u001b[0;34m(\u001b[0m\u001b[0;34m)\u001b[0m\u001b[0;34m)\u001b[0m\u001b[0;34m)\u001b[0m\u001b[0;34m\u001b[0m\u001b[0;34m\u001b[0m\u001b[0m\n\u001b[0m\u001b[1;32m    280\u001b[0m \u001b[0;34m\u001b[0m\u001b[0m\n\u001b[1;32m    281\u001b[0m \u001b[0;34m\u001b[0m\u001b[0m\n",
      "\u001b[0;31mXGBoostError\u001b[0m: [17:04:56] ../src/gbm/gbtree.cc:611: Check failed: common::AllVisibleGPUs() >= 1 (0 vs. 1) : No visible GPU is found for XGBoost.\nStack trace:\n  [bt] (0) /home/arsde/.local/lib/python3.8/site-packages/xgboost/lib/libxgboost.so(+0x29da59) [0x7fd7c39a2a59]\n  [bt] (1) /home/arsde/.local/lib/python3.8/site-packages/xgboost/lib/libxgboost.so(+0x29ed02) [0x7fd7c39a3d02]\n  [bt] (2) /home/arsde/.local/lib/python3.8/site-packages/xgboost/lib/libxgboost.so(+0x29f0ba) [0x7fd7c39a40ba]\n  [bt] (3) /home/arsde/.local/lib/python3.8/site-packages/xgboost/lib/libxgboost.so(+0x2ddccd) [0x7fd7c39e2ccd]\n  [bt] (4) /home/arsde/.local/lib/python3.8/site-packages/xgboost/lib/libxgboost.so(XGBoosterUpdateOneIter+0x70) [0x7fd7c3833000]\n  [bt] (5) /lib/x86_64-linux-gnu/libffi.so.7(+0x6ff5) [0x7fd8dcde4ff5]\n  [bt] (6) /lib/x86_64-linux-gnu/libffi.so.7(+0x640a) [0x7fd8dcde440a]\n  [bt] (7) /usr/lib/python3.8/lib-dynload/_ctypes.cpython-38-x86_64-linux-gnu.so(_ctypes_callproc+0x5b6) [0x7fd8dbe8b316]\n  [bt] (8) /usr/lib/python3.8/lib-dynload/_ctypes.cpython-38-x86_64-linux-gnu.so(+0x139ec) [0x7fd8dbe8b9ec]\n\n"
     ]
    }
   ],
   "source": [
    "scores = []\n",
    "mape_scores = []\n",
    "val_scores = []\n",
    "n_estimators = []\n",
    "\n",
    "for max_depth in tqdm(max_depths, \"Max depths: \"):\n",
    "    \n",
    "    scores_dict[max_depth] = []\n",
    "    val_scores_dict[max_depth] = []\n",
    "    n_estimators_dict[max_depth] = []\n",
    "    \n",
    "    for i in tqdm(range(len(trains)), \"Folds... \", leave=False):\n",
    "        model = XGBRegressor(\n",
    "                max_depth=max_depth,\n",
    "                learning_rate=0.08,\n",
    "                n_estimators=3000,\n",
    "                tree_method='gpu_hist',\n",
    "                random_state=22\n",
    "        )\n",
    "\n",
    "        model.fit(trains[i][:, :n_feats], trains[i][:, n_feats], verbose=False,\n",
    "                   eval_set=[(data_val[:, :n_feats], data_val[:, n_feats])],\n",
    "                   early_stopping_rounds=5)\n",
    "        \n",
    "        scores.append(mean_squared_error(tests[i][:, n_feats], model.predict(tests[i][:, :n_feats]))**0.5)        \n",
    "        mape_scores.append(mean_absolute_percentage_error(tests[i][:, n_feats]), model.predict(tests[i][:, :n_feats]))\n",
    "        \n",
    "        val_scores.append(model.evals_result_['validation_0']['rmse'][-1])\n",
    "        \n",
    "        n_estimators.append(model.best_ntree_limit)\n",
    "        n_estimators_dict[max_depth].append(model.best_ntree_limit)\n",
    "        \n",
    "        val_scores_dict[max_depth].append(model.evals_result_['validation_0']['rmse'][-1])\n",
    "        scores_dict[max_depth].append(mean_squared_error(tests[i][:, n_feats], model.predict(tests[i][:, :n_feats]))**0.5)"
   ]
  },
  {
   "cell_type": "code",
   "execution_count": null,
   "metadata": {},
   "outputs": [],
   "source": [
    "scores_ = np.array(scores).reshape((len(max_depths), n_folds)).mean(axis=1)\n",
    "mape_scores_ = np.array(mape_scores).reshape((len(max_depths), n_folds)).mean(axis=1)\n",
    "\n",
    "scores_std = np.array(scores).reshape((len(max_depths), n_folds)).std(axis=1)\n",
    "mape_scores_std = np.array(mape_scores).reshape((len(max_depths), n_folds)).std(axis=1)"
   ]
  },
  {
   "cell_type": "code",
   "execution_count": null,
   "metadata": {},
   "outputs": [],
   "source": [
    "val_scores_ = np.array(val_scores).reshape((len(max_depths), n_folds)).mean(axis=1)\n",
    "val_scores_std = np.array(val_scores).reshape((len(max_depths), n_folds)).std(axis=1)"
   ]
  },
  {
   "cell_type": "code",
   "execution_count": null,
   "metadata": {},
   "outputs": [],
   "source": [
    "n_estimators_ = np.array(n_estimators).reshape((len(max_depths), n_folds)).mean(axis=1)\n",
    "n_estimators_std = np.array(n_estimators).reshape((len(max_depths), n_folds)).std(axis=1)"
   ]
  },
  {
   "cell_type": "code",
   "execution_count": null,
   "metadata": {},
   "outputs": [],
   "source": [
    "df = pd.DataFrame([mape_scores_, mape_scores_std, scores_, \n",
    "                   scores_std, val_scores_, val_scores_std,\n",
    "                   n_estimators_, n_estimators_std]).T\n",
    "\n",
    "df.columns = ['mape_scores_', 'mape_scores_std', 'scores_',\n",
    "              'scores_std', 'val_scores_', 'val_scores_std',\n",
    "              'n_estimators_', 'n_estimators_std']\n",
    "\n",
    "df['max_depth'] = np.array(max_depths)"
   ]
  },
  {
   "cell_type": "code",
   "execution_count": null,
   "metadata": {},
   "outputs": [],
   "source": [
    "df.to_csv('grid_search_results_opt.csv', index=False)"
   ]
  },
  {
   "cell_type": "code",
   "execution_count": null,
   "metadata": {},
   "outputs": [],
   "source": [
    "df = pd.read_csv('grid_search_results_opt.csv')"
   ]
  },
  {
   "cell_type": "code",
   "execution_count": null,
   "metadata": {},
   "outputs": [],
   "source": [
    "scores_ = df.scores_\n",
    "scores_std = df.scores_std\n",
    "\n",
    "mape_scores_ = df.mape_scores_\n",
    "mape_scores_std = df.mape_scores_std\n",
    "\n",
    "val_scores_ = df.val_scores_\n",
    "val_scores_std = df.val_scores_std\n",
    "\n",
    "n_estimators_ = df.n_estimators_\n",
    "n_estimators_std = df.n_estimators_std\n",
    "\n",
    "max_depths = df.max_depth"
   ]
  },
  {
   "cell_type": "code",
   "execution_count": null,
   "metadata": {},
   "outputs": [],
   "source": [
    "list_max_depths = [str(max_depths[i]) for i in range(len(max_depths))]"
   ]
  },
  {
   "cell_type": "code",
   "execution_count": null,
   "metadata": {},
   "outputs": [],
   "source": [
    "drmse = (scores_.max()*100 - scores_.min()*100) / len(scores_*100)"
   ]
  },
  {
   "cell_type": "code",
   "execution_count": null,
   "metadata": {},
   "outputs": [],
   "source": [
    "fig = make_subplots(specs=[[{\"secondary_y\": True}]])\n",
    "\n",
    "fig.add_trace(\n",
    "            go.Scatter(\n",
    "                x = np.array(max_depths),\n",
    "                y = n_estimators_,\n",
    "                name = 'Number of trees',\n",
    "                mode='markers',\n",
    "                marker=dict(\n",
    "                    size=scores_*150,\n",
    "                    color='darkblue',\n",
    "                    opacity=0.7\n",
    "                ),\n",
    "                error_y=dict(\n",
    "                    type='data',\n",
    "                    width=10,\n",
    "                    array=n_estimators_std,\n",
    "                    visible=True\n",
    "                ),\n",
    "            ),\n",
    "            secondary_y=False\n",
    ")\n",
    "\n",
    "fig.add_trace(\n",
    "        go.Scatter(\n",
    "            x = np.array(max_depths),\n",
    "            y = np.array(scores_)*1000,\n",
    "            mode='markers',\n",
    "            name='RMSE',\n",
    "            marker=dict(\n",
    "                size=scores_*150,\n",
    "                symbol='cross',\n",
    "                color='darkred',\n",
    "                opacity=0.7\n",
    "            ),\n",
    "            error_y=dict(\n",
    "                type='data',\n",
    "                width=12,\n",
    "                array=scores_std,\n",
    "                visible=True\n",
    "            ),\n",
    "        ),\n",
    "        secondary_y=True\n",
    ")\n",
    "        \n",
    "fig.update_xaxes(\n",
    "     showline=True,\n",
    "     title_text=\"Maximal depth of tree\",\n",
    "     ticks='outside',\n",
    "     mirror=True,\n",
    "     linecolor='black',\n",
    "     gridcolor='grey',\n",
    ")\n",
    "\n",
    "fig.update_yaxes(\n",
    "     showline=True,\n",
    "     title_text=\"Number of trees\",\n",
    "     secondary_y=False,\n",
    "     color = 'darkblue',\n",
    "     tickmode = 'linear',\n",
    "     tick0 = 0,\n",
    "     dtick = 500,\n",
    "     ticks='outside',\n",
    "     mirror=True,\n",
    "     linecolor='black',\n",
    "     gridcolor='grey',\n",
    ")\n",
    "\n",
    "fig.update_yaxes(\n",
    "    showline=True,\n",
    "    title_text=\"RMSE, KeV\",\n",
    "    secondary_y=True,\n",
    "    color = 'darkred',\n",
    "    tickmode = 'array',\n",
    "#tickvals = [8.600, 8.625, 8.650, 8.675, 8.700, 8.725, 8.750, 8.775, 8.800],\n",
    "    ticks='outside',\n",
    "    mirror=True,\n",
    "    linecolor='black',\n",
    "    showgrid=False\n",
    ")\n",
    "\n",
    "fig.update_layout(\n",
    "    xaxis = dict(\n",
    "        tickmode = 'linear',\n",
    "        tick0 = 3,\n",
    "        dtick = 1\n",
    "    ),\n",
    "    legend=dict(\n",
    "        title_font_family=\"Times New Roman\",\n",
    "        yanchor=\"top\",\n",
    "        y=0.99,\n",
    "        xanchor=\"right\",\n",
    "        x=0.925,\n",
    "        bordercolor=\"Black\",\n",
    "        borderwidth=1,\n",
    "        font=dict(\n",
    "            family=\"Times New Roman\",\n",
    "            color=\"black\"\n",
    "        ),\n",
    "    ),\n",
    "    showlegend=True,\n",
    "    font=dict(\n",
    "            family=\"Times New Roman\",\n",
    "            color='black',\n",
    "            size=22,\n",
    "    )\n",
    ")\n",
    "\n",
    "pio.write_image(fig, 'plots/BDT_grid_search_opt.pdf', width=1000, height=600, scale=1)\n",
    "fig.show()"
   ]
  },
  {
   "cell_type": "code",
   "execution_count": null,
   "metadata": {},
   "outputs": [],
   "source": [
    "fig = make_subplots(specs=[[{\"secondary_y\": True}]])\n",
    "\n",
    "fig.add_trace(\n",
    "            go.Scatter(\n",
    "                x = np.array(max_depths),\n",
    "                y = n_estimators_,\n",
    "                name = 'Number of trees',\n",
    "                mode='markers',\n",
    "                marker=dict(\n",
    "                    size=scores_*150,\n",
    "                    color='darkblue',\n",
    "                    opacity=0.7\n",
    "                ),\n",
    "                error_y=dict(\n",
    "                    type='data',\n",
    "                    width=10,\n",
    "                    array=n_estimators_std,\n",
    "                    visible=True\n",
    "                ),\n",
    "            ),\n",
    "            secondary_y=False\n",
    ")\n",
    "\n",
    "fig.add_trace(\n",
    "        go.Scatter(\n",
    "            x = np.array(max_depths),\n",
    "            y = np.array(mape_scores_),\n",
    "            mode='markers',\n",
    "            name='MAPE',\n",
    "            marker=dict(\n",
    "                size=mape_scores_*11,\n",
    "                symbol='x',\n",
    "                color='darkred',\n",
    "                opacity=0.7\n",
    "            ),\n",
    "            error_y=dict(\n",
    "                type='data',\n",
    "                width=12,\n",
    "                array=mape_scores_std,\n",
    "                visible=True\n",
    "            ),\n",
    "        ),\n",
    "        secondary_y=True\n",
    ")\n",
    "\n",
    "fig.update_xaxes(\n",
    "    showline=True,\n",
    "    title_text=\"Maximal depth of tree\",\n",
    "    ticks='outside',\n",
    "    mirror=True,\n",
    "    linecolor='black',\n",
    "    gridcolor='grey',\n",
    ")\n",
    "\n",
    "fig.update_yaxes(\n",
    "    showline=True,\n",
    "    title_text=\"Number of trees\",\n",
    "    secondary_y=False,\n",
    "    color='darkblue',\n",
    "    tickmode='linear',\n",
    "    tick0=0,\n",
    "    dtick=500,\n",
    "    ticks='outside',\n",
    "    mirror=True,\n",
    "    linecolor='black',\n",
    "    gridcolor='grey',\n",
    ")\n",
    "\n",
    "fig.update_yaxes(\n",
    "    showline=True,\n",
    "    title_text=\"MAPE, %\",\n",
    "    secondary_y=True,\n",
    "    color = 'darkred',\n",
    "    tickmode = 'array',\n",
    "    #tickvals = [8.600, 8.625, 8.650, 8.675, 8.700, 8.725, 8.750, 8.775, 8.800],\n",
    "    ticks='outside', \n",
    "    mirror=True,\n",
    "    linecolor='black',\n",
    "    showgrid=False,\n",
    ")\n",
    "\n",
    "fig.update_layout(\n",
    "    xaxis = dict(\n",
    "        tickmode = 'linear',\n",
    "        tick0 = 3,\n",
    "        dtick = 1\n",
    "    ),\n",
    "    legend=dict(\n",
    "        title_font_family=\"Times New Roman\",\n",
    "        yanchor=\"top\",\n",
    "        y=0.99,\n",
    "        xanchor=\"right\",\n",
    "        x=0.925,\n",
    "        bordercolor=\"Black\",\n",
    "        borderwidth=1,\n",
    "        font=dict(\n",
    "            family=\"Times New Roman\",\n",
    "            color=\"black\",\n",
    "            size=24,\n",
    "        ),\n",
    "    ),\n",
    "    showlegend=True,\n",
    "    font=dict(\n",
    "            family=\"Times New Roman\",\n",
    "            color='black',\n",
    "            size=24,\n",
    "    )\n",
    ")\n",
    "\n",
    "pio.write_image(fig, 'plots/BDT_grid_search_mape_opt.pdf', width=1000, height=600, scale=1)\n",
    "fig.show()"
   ]
  },
  {
   "cell_type": "code",
   "execution_count": null,
   "metadata": {},
   "outputs": [],
   "source": []
  },
  {
   "cell_type": "code",
   "execution_count": null,
   "metadata": {},
   "outputs": [],
   "source": []
  }
 ],
 "metadata": {
  "kernelspec": {
   "display_name": "Python 3",
   "language": "python",
   "name": "python3"
  },
  "language_info": {
   "codemirror_mode": {
    "name": "ipython",
    "version": 3
   },
   "file_extension": ".py",
   "mimetype": "text/x-python",
   "name": "python",
   "nbconvert_exporter": "python",
   "pygments_lexer": "ipython3",
   "version": "3.8.10"
  }
 },
 "nbformat": 4,
 "nbformat_minor": 4
}
