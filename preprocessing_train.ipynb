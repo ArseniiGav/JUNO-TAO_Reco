{
 "cells": [
  {
   "cell_type": "code",
   "execution_count": 1,
   "metadata": {},
   "outputs": [],
   "source": [
    "import uproot3\n",
    "import os\n",
    "from tqdm.notebook import tqdm\n",
    "import pandas as pd\n",
    "import numpy as np"
   ]
  },
  {
   "cell_type": "code",
   "execution_count": 2,
   "metadata": {},
   "outputs": [],
   "source": [
    "#import re\n",
    "\n",
    "# _nsre = re.compile('([0-9]+)')\n",
    "# def natural_sort_key(s):\n",
    "#     return [int(text) if text.isdigit() else text.lower()\n",
    "#             for text in re.split(_nsre, s)]"
   ]
  },
  {
   "cell_type": "code",
   "execution_count": 3,
   "metadata": {},
   "outputs": [
    {
     "data": {
      "application/vnd.jupyter.widget-view+json": {
       "model_id": "b7e855e97330402fa695a19b90462458",
       "version_major": 2,
       "version_minor": 0
      },
      "text/plain": [
       "  0%|          | 0/10 [00:00<?, ?it/s]"
      ]
     },
     "metadata": {},
     "output_type": "display_data"
    },
    {
     "name": "stderr",
     "output_type": "stream",
     "text": [
      "/home/arsde/.local/lib/python3.8/site-packages/awkward0/array/base.py:398: VisibleDeprecationWarning: Creating an ndarray from ragged nested sequences (which is a list-or-tuple of lists-or-tuples-or ndarrays with different lengths or shapes) is deprecated. If you meant to do this, you must specify 'dtype=object' when creating the ndarray\n",
      "  return cls.numpy.array(value, copy=False)\n"
     ]
    },
    {
     "data": {
      "application/vnd.jupyter.widget-view+json": {
       "model_id": "",
       "version_major": 2,
       "version_minor": 0
      },
      "text/plain": [
       "  0%|          | 0/1000 [00:00<?, ?it/s]"
      ]
     },
     "metadata": {},
     "output_type": "display_data"
    },
    {
     "data": {
      "application/vnd.jupyter.widget-view+json": {
       "model_id": "",
       "version_major": 2,
       "version_minor": 0
      },
      "text/plain": [
       "  0%|          | 0/1000 [00:00<?, ?it/s]"
      ]
     },
     "metadata": {},
     "output_type": "display_data"
    },
    {
     "data": {
      "application/vnd.jupyter.widget-view+json": {
       "model_id": "",
       "version_major": 2,
       "version_minor": 0
      },
      "text/plain": [
       "  0%|          | 0/1000 [00:00<?, ?it/s]"
      ]
     },
     "metadata": {},
     "output_type": "display_data"
    },
    {
     "data": {
      "application/vnd.jupyter.widget-view+json": {
       "model_id": "",
       "version_major": 2,
       "version_minor": 0
      },
      "text/plain": [
       "  0%|          | 0/1000 [00:00<?, ?it/s]"
      ]
     },
     "metadata": {},
     "output_type": "display_data"
    },
    {
     "data": {
      "application/vnd.jupyter.widget-view+json": {
       "model_id": "",
       "version_major": 2,
       "version_minor": 0
      },
      "text/plain": [
       "  0%|          | 0/1000 [00:00<?, ?it/s]"
      ]
     },
     "metadata": {},
     "output_type": "display_data"
    },
    {
     "data": {
      "application/vnd.jupyter.widget-view+json": {
       "model_id": "",
       "version_major": 2,
       "version_minor": 0
      },
      "text/plain": [
       "  0%|          | 0/1000 [00:00<?, ?it/s]"
      ]
     },
     "metadata": {},
     "output_type": "display_data"
    },
    {
     "data": {
      "application/vnd.jupyter.widget-view+json": {
       "model_id": "",
       "version_major": 2,
       "version_minor": 0
      },
      "text/plain": [
       "  0%|          | 0/1000 [00:00<?, ?it/s]"
      ]
     },
     "metadata": {},
     "output_type": "display_data"
    },
    {
     "data": {
      "application/vnd.jupyter.widget-view+json": {
       "model_id": "",
       "version_major": 2,
       "version_minor": 0
      },
      "text/plain": [
       "  0%|          | 0/1000 [00:00<?, ?it/s]"
      ]
     },
     "metadata": {},
     "output_type": "display_data"
    },
    {
     "data": {
      "application/vnd.jupyter.widget-view+json": {
       "model_id": "",
       "version_major": 2,
       "version_minor": 0
      },
      "text/plain": [
       "  0%|          | 0/1000 [00:00<?, ?it/s]"
      ]
     },
     "metadata": {},
     "output_type": "display_data"
    },
    {
     "data": {
      "application/vnd.jupyter.widget-view+json": {
       "model_id": "",
       "version_major": 2,
       "version_minor": 0
      },
      "text/plain": [
       "  0%|          | 0/1000 [00:00<?, ?it/s]"
      ]
     },
     "metadata": {},
     "output_type": "display_data"
    }
   ],
   "source": [
    "for j in tqdm(range(10)):\n",
    "    root_file = f\"sample_elecsim-{j}.root\"\n",
    "    eos_path = \"/eos/juno/users/a/arsg/TAO/\"\n",
    "\n",
    "    os.system(\"export EOS_MGM_URL=root://eos.jinr.ru\")\n",
    "    os.system(f\"xrdcp root://eos.jinr.ru/{eos_path}/{root_file} TAO_data/{root_file}\")\n",
    "    \n",
    "    file = uproot3.open(f\"TAO_data/{root_file}\")\n",
    "    df = file[\"Event/Sim/SimEvent\"].pandas.df(flatten=False)\n",
    "    \n",
    "    edeps = []\n",
    "    edepXs = []\n",
    "    edepYs = []\n",
    "    edepZs = []\n",
    "    \n",
    "    HitTs = []\n",
    "    HitIds = []\n",
    "    \n",
    "    for evt in tqdm(range(len(df)), leave=False):\n",
    "            edeps.append(df.iloc[evt].fGdLSEdep)\n",
    "            edepXs.append(df.iloc[evt].fGdLSEdepX / 1000.)\n",
    "            edepYs.append(df.iloc[evt].fGdLSEdepY / 1000.)\n",
    "            edepZs.append(df.iloc[evt].fGdLSEdepZ / 1000.)  \n",
    "\n",
    "            HitT = np.array(df.iloc[evt].fSiPMHitT)\n",
    "            HitId = np.array(df.iloc[evt].fSiPMHitID)\n",
    "\n",
    "            HitTs.append(HitT)\n",
    "            HitIds.append(HitId)\n",
    "                \n",
    "    HitTs = np.array(HitTs, dtype=object)\n",
    "    HitIds = np.array(HitIds, dtype=object)\n",
    "    raw_data = np.vstack((HitIds, HitTs))\n",
    "\n",
    "    data = np.vstack(\n",
    "        (edeps, edepXs, edepYs, edepZs)\n",
    "    ).T\n",
    "    \n",
    "    description = \"Data description: \\n \\\n",
    "    By 'hits' key: SiPMHitID,  SiPMHitT \\n \\\n",
    "    By 'primaries' key: edep, edepX, edepY, edepZ\"\n",
    "\n",
    "    np.savez_compressed(\n",
    "        \"/mnt/cephfs/ml_data/TAO_detsim_J22/train/detsim_\" + root_file.split(\"-\")[1][:-5] + \".npz\",\n",
    "        hits=raw_data,\n",
    "        primaries=data,\n",
    "        description=description\n",
    "    )\n",
    "    \n",
    "    os.system(f\"rm TAO_data/{root_file}\")"
   ]
  },
  {
   "cell_type": "code",
   "execution_count": null,
   "metadata": {},
   "outputs": [],
   "source": []
  }
 ],
 "metadata": {
  "kernelspec": {
   "display_name": "Python 3",
   "language": "python",
   "name": "python3"
  },
  "language_info": {
   "codemirror_mode": {
    "name": "ipython",
    "version": 3
   },
   "file_extension": ".py",
   "mimetype": "text/x-python",
   "name": "python",
   "nbconvert_exporter": "python",
   "pygments_lexer": "ipython3",
   "version": "3.8.10"
  }
 },
 "nbformat": 4,
 "nbformat_minor": 4
}
