{
 "cells": [
  {
   "cell_type": "code",
   "execution_count": 1,
   "id": "cda436db",
   "metadata": {},
   "outputs": [
    {
     "name": "stdout",
     "output_type": "stream",
     "text": [
      "https://app.neptune.ai/arsde/J22TAO/e/JTAO-63\n"
     ]
    },
    {
     "name": "stderr",
     "output_type": "stream",
     "text": [
      "Info (NVML): RM has detected an NVML/RM version mismatch.. GPU usage metrics may not be reported. For more information, see https://docs.neptune.ai/you-should-know/what-can-you-log-and-display#hardware-consumption\n"
     ]
    },
    {
     "name": "stdout",
     "output_type": "stream",
     "text": [
      "Remember to stop your run once you’ve finished logging your metadata (https://docs.neptune.ai/api-reference/run#.stop). It will be stopped automatically only when the notebook kernel/interactive console is terminated.\n"
     ]
    }
   ],
   "source": [
    "import neptune.new as neptune\n",
    "\n",
    "run = neptune.init(project='arsde/J22TAO')"
   ]
  },
  {
   "cell_type": "code",
   "execution_count": 2,
   "id": "e3e3d82b",
   "metadata": {},
   "outputs": [],
   "source": [
    "import pandas as pd\n",
    "import numpy as np\n",
    "from tqdm.notebook import tqdm\n",
    "\n",
    "import warnings\n",
    "warnings.filterwarnings(\"ignore\")"
   ]
  },
  {
   "cell_type": "code",
   "execution_count": 3,
   "id": "e452278d",
   "metadata": {},
   "outputs": [],
   "source": [
    "features_selection = True"
   ]
  },
  {
   "cell_type": "code",
   "execution_count": 4,
   "id": "08333039",
   "metadata": {},
   "outputs": [],
   "source": [
    "PARAMS = {\n",
    "    \"FC_cut\": 0.65,\n",
    "    \"number_of_events\": int(1.15e6),\n",
    "    \"random_state\": 22,\n",
    "    \"max_depth\": 9,\n",
    "    \"early_stopping_rounds\": 10,\n",
    "    \"n_folds\": 10,  \n",
    "    \"training_dataset_size\": int(1e6)\n",
    "}\n",
    "\n",
    "run['PARAMS'] = PARAMS"
   ]
  },
  {
   "cell_type": "code",
   "execution_count": 5,
   "id": "cc351142",
   "metadata": {},
   "outputs": [],
   "source": [
    "path = \"/mnt/cephfs/ml_data/TAO_detsim_J22/\"\n",
    "data = pd.read_csv(f'{path}processed_data/ProcessedTrain/ProcessedTrain.csv.gz')"
   ]
  },
  {
   "cell_type": "code",
   "execution_count": 6,
   "id": "b945bd5d",
   "metadata": {},
   "outputs": [
    {
     "data": {
      "text/html": [
       "<div>\n",
       "<style scoped>\n",
       "    .dataframe tbody tr th:only-of-type {\n",
       "        vertical-align: middle;\n",
       "    }\n",
       "\n",
       "    .dataframe tbody tr th {\n",
       "        vertical-align: top;\n",
       "    }\n",
       "\n",
       "    .dataframe thead th {\n",
       "        text-align: right;\n",
       "    }\n",
       "</style>\n",
       "<table border=\"1\" class=\"dataframe\">\n",
       "  <thead>\n",
       "    <tr style=\"text-align: right;\">\n",
       "      <th></th>\n",
       "      <th>AccumCharge</th>\n",
       "      <th>nPMTs</th>\n",
       "      <th>R_cc</th>\n",
       "      <th>rho_cc</th>\n",
       "      <th>x_cc</th>\n",
       "      <th>y_cc</th>\n",
       "      <th>z_cc</th>\n",
       "      <th>gamma_z_cc</th>\n",
       "      <th>gamma_y_cc</th>\n",
       "      <th>gamma_x_cc</th>\n",
       "      <th>...</th>\n",
       "      <th>pe_75p</th>\n",
       "      <th>pe_80p</th>\n",
       "      <th>pe_85p</th>\n",
       "      <th>pe_90p</th>\n",
       "      <th>pe_95p</th>\n",
       "      <th>edep</th>\n",
       "      <th>edepX</th>\n",
       "      <th>edepY</th>\n",
       "      <th>edepZ</th>\n",
       "      <th>edepR</th>\n",
       "    </tr>\n",
       "  </thead>\n",
       "  <tbody>\n",
       "    <tr>\n",
       "      <th>0</th>\n",
       "      <td>35482.0</td>\n",
       "      <td>3999.0</td>\n",
       "      <td>0.365263</td>\n",
       "      <td>0.364290</td>\n",
       "      <td>0.338427</td>\n",
       "      <td>0.134812</td>\n",
       "      <td>-0.026646</td>\n",
       "      <td>-0.073146</td>\n",
       "      <td>0.397121</td>\n",
       "      <td>2.462711</td>\n",
       "      <td>...</td>\n",
       "      <td>10.0</td>\n",
       "      <td>12.0</td>\n",
       "      <td>15.0</td>\n",
       "      <td>18.0</td>\n",
       "      <td>27.0</td>\n",
       "      <td>8.520335</td>\n",
       "      <td>0.468565</td>\n",
       "      <td>0.200681</td>\n",
       "      <td>-0.033771</td>\n",
       "      <td>0.510849</td>\n",
       "    </tr>\n",
       "    <tr>\n",
       "      <th>1</th>\n",
       "      <td>26449.0</td>\n",
       "      <td>3881.0</td>\n",
       "      <td>0.436751</td>\n",
       "      <td>0.369734</td>\n",
       "      <td>0.056378</td>\n",
       "      <td>-0.365410</td>\n",
       "      <td>-0.232483</td>\n",
       "      <td>-0.628785</td>\n",
       "      <td>-1.527498</td>\n",
       "      <td>0.130175</td>\n",
       "      <td>...</td>\n",
       "      <td>7.0</td>\n",
       "      <td>9.0</td>\n",
       "      <td>11.0</td>\n",
       "      <td>15.0</td>\n",
       "      <td>23.0</td>\n",
       "      <td>6.394049</td>\n",
       "      <td>0.079346</td>\n",
       "      <td>-0.524534</td>\n",
       "      <td>-0.343030</td>\n",
       "      <td>0.631744</td>\n",
       "    </tr>\n",
       "    <tr>\n",
       "      <th>3</th>\n",
       "      <td>6304.0</td>\n",
       "      <td>2817.0</td>\n",
       "      <td>0.328890</td>\n",
       "      <td>0.312968</td>\n",
       "      <td>-0.125881</td>\n",
       "      <td>-0.286536</td>\n",
       "      <td>-0.101091</td>\n",
       "      <td>-0.323008</td>\n",
       "      <td>-1.774786</td>\n",
       "      <td>-0.414293</td>\n",
       "      <td>...</td>\n",
       "      <td>3.0</td>\n",
       "      <td>3.0</td>\n",
       "      <td>4.0</td>\n",
       "      <td>4.0</td>\n",
       "      <td>6.0</td>\n",
       "      <td>1.668662</td>\n",
       "      <td>-0.164486</td>\n",
       "      <td>-0.408590</td>\n",
       "      <td>-0.155663</td>\n",
       "      <td>0.467154</td>\n",
       "    </tr>\n",
       "    <tr>\n",
       "      <th>9</th>\n",
       "      <td>13865.0</td>\n",
       "      <td>3606.0</td>\n",
       "      <td>0.347917</td>\n",
       "      <td>0.191859</td>\n",
       "      <td>0.088948</td>\n",
       "      <td>-0.169994</td>\n",
       "      <td>-0.290236</td>\n",
       "      <td>-1.512758</td>\n",
       "      <td>-0.560001</td>\n",
       "      <td>0.264448</td>\n",
       "      <td>...</td>\n",
       "      <td>5.0</td>\n",
       "      <td>5.0</td>\n",
       "      <td>7.0</td>\n",
       "      <td>8.0</td>\n",
       "      <td>11.0</td>\n",
       "      <td>3.526859</td>\n",
       "      <td>0.123386</td>\n",
       "      <td>-0.231287</td>\n",
       "      <td>-0.426100</td>\n",
       "      <td>0.500279</td>\n",
       "    </tr>\n",
       "    <tr>\n",
       "      <th>10</th>\n",
       "      <td>40302.0</td>\n",
       "      <td>4007.0</td>\n",
       "      <td>0.368905</td>\n",
       "      <td>0.364372</td>\n",
       "      <td>0.192190</td>\n",
       "      <td>0.309564</td>\n",
       "      <td>-0.057652</td>\n",
       "      <td>-0.158224</td>\n",
       "      <td>1.542799</td>\n",
       "      <td>0.610346</td>\n",
       "      <td>...</td>\n",
       "      <td>12.0</td>\n",
       "      <td>14.0</td>\n",
       "      <td>17.0</td>\n",
       "      <td>22.0</td>\n",
       "      <td>30.0</td>\n",
       "      <td>9.680871</td>\n",
       "      <td>0.268719</td>\n",
       "      <td>0.425487</td>\n",
       "      <td>-0.085745</td>\n",
       "      <td>0.510491</td>\n",
       "    </tr>\n",
       "  </tbody>\n",
       "</table>\n",
       "<p>5 rows × 96 columns</p>\n",
       "</div>"
      ],
      "text/plain": [
       "    AccumCharge   nPMTs      R_cc    rho_cc      x_cc      y_cc      z_cc  \\\n",
       "0       35482.0  3999.0  0.365263  0.364290  0.338427  0.134812 -0.026646   \n",
       "1       26449.0  3881.0  0.436751  0.369734  0.056378 -0.365410 -0.232483   \n",
       "3        6304.0  2817.0  0.328890  0.312968 -0.125881 -0.286536 -0.101091   \n",
       "9       13865.0  3606.0  0.347917  0.191859  0.088948 -0.169994 -0.290236   \n",
       "10      40302.0  4007.0  0.368905  0.364372  0.192190  0.309564 -0.057652   \n",
       "\n",
       "    gamma_z_cc  gamma_y_cc  gamma_x_cc  ...  pe_75p  pe_80p  pe_85p  pe_90p  \\\n",
       "0    -0.073146    0.397121    2.462711  ...    10.0    12.0    15.0    18.0   \n",
       "1    -0.628785   -1.527498    0.130175  ...     7.0     9.0    11.0    15.0   \n",
       "3    -0.323008   -1.774786   -0.414293  ...     3.0     3.0     4.0     4.0   \n",
       "9    -1.512758   -0.560001    0.264448  ...     5.0     5.0     7.0     8.0   \n",
       "10   -0.158224    1.542799    0.610346  ...    12.0    14.0    17.0    22.0   \n",
       "\n",
       "    pe_95p      edep     edepX     edepY     edepZ     edepR  \n",
       "0     27.0  8.520335  0.468565  0.200681 -0.033771  0.510849  \n",
       "1     23.0  6.394049  0.079346 -0.524534 -0.343030  0.631744  \n",
       "3      6.0  1.668662 -0.164486 -0.408590 -0.155663  0.467154  \n",
       "9     11.0  3.526859  0.123386 -0.231287 -0.426100  0.500279  \n",
       "10    30.0  9.680871  0.268719  0.425487 -0.085745  0.510491  \n",
       "\n",
       "[5 rows x 96 columns]"
      ]
     },
     "execution_count": 6,
     "metadata": {},
     "output_type": "execute_result"
    }
   ],
   "source": [
    "from sklearn.utils import shuffle\n",
    "\n",
    "FC_cut = PARAMS['FC_cut']\n",
    "N = PARAMS['number_of_events']\n",
    "random_state = PARAMS['random_state']\n",
    "max_depth = PARAMS['max_depth']\n",
    "early_stopping_rounds = PARAMS['early_stopping_rounds']\n",
    "n_folds = PARAMS['n_folds']\n",
    "size = PARAMS['training_dataset_size']\n",
    "\n",
    "data = shuffle(data, random_state=random_state)\n",
    "data = data.reset_index(drop=True)\n",
    "data = data[data['edepR'] < FC_cut]\n",
    "data = data[:N]\n",
    "data.head()"
   ]
  },
  {
   "cell_type": "code",
   "execution_count": 7,
   "id": "7161be43",
   "metadata": {},
   "outputs": [],
   "source": [
    "from sklearn.metrics import mean_squared_error\n",
    "from neptune.new.types import File\n",
    "import plotly.express as px\n",
    "import plotly.io as pio\n",
    "pio.templates.default = 'plotly_white'\n",
    "\n",
    "def mean_absolute_percentage_error(y_true, y_pred): \n",
    "    y_true, y_pred = np.array(y_true), np.array(y_pred)\n",
    "    return np.mean(np.abs((y_true - y_pred) / y_true)) * 100\n",
    "\n",
    "def plot_results(df, break_flag=False):\n",
    "            \n",
    "    fig = px.scatter(\n",
    "        df,\n",
    "        x=\"Added feature\",\n",
    "        y=\"MAPE, %\",\n",
    "        error_y='current_metric_stds',\n",
    "        animation_frame=\"Number of features\",\n",
    "    )\n",
    "    \n",
    "    if break_flag:\n",
    "        df_es = df_plot[df_plot['Number of features'] == df_plot['Number of features'].iloc[-1]]\n",
    "        ind = np.argmin(df_es['MAPE, %'])\n",
    "\n",
    "        fig.add_vline(\n",
    "            x=df_es['Added feature'].iloc[ind],\n",
    "            line=dict(\n",
    "                dash='dash',\n",
    "                width=4,\n",
    "                color='darkred',\n",
    "            ),\n",
    "            opacity=0.75\n",
    "        )\n",
    "    \n",
    "    fig.update_traces(\n",
    "        marker=dict(\n",
    "            color='black'\n",
    "        )\n",
    "    )\n",
    "\n",
    "    fig.update_layout(\n",
    "        xaxis = dict(\n",
    "            showline=True,\n",
    "            ticks='outside',\n",
    "            mirror=True,\n",
    "            linecolor='black',\n",
    "            showgrid=True,\n",
    "            gridcolor='grey',\n",
    "            gridwidth=0.25,\n",
    "        ),\n",
    "\n",
    "        yaxis = dict(\n",
    "            showline=True,\n",
    "            ticks='outside',\n",
    "            mirror=True,\n",
    "            linecolor='black',\n",
    "            tick0=0,\n",
    "            showgrid=True,\n",
    "            gridcolor='grey',\n",
    "            gridwidth=0.25,\n",
    "            zeroline=True,\n",
    "            zerolinecolor='black',\n",
    "            zerolinewidth=0.25\n",
    "        ),\n",
    "\n",
    "        font=dict(\n",
    "            family=\"Times New Roman\",\n",
    "            size=16,\n",
    "            color=\"Black\"\n",
    "        )\n",
    "    )\n",
    "\n",
    "    run[\"plot_results_anim\"].upload(File.as_html(fig))"
   ]
  },
  {
   "cell_type": "code",
   "execution_count": 8,
   "id": "b438b967",
   "metadata": {},
   "outputs": [],
   "source": [
    "n_feats = data.shape[1] - 5\n",
    "\n",
    "X_val = data.iloc[size:, :-5]\n",
    "y_val = data.iloc[size:, -5]\n",
    "data = data[:size]"
   ]
  },
  {
   "cell_type": "code",
   "execution_count": null,
   "id": "f59afb0f",
   "metadata": {
    "scrolled": true
   },
   "outputs": [
    {
     "data": {
      "application/vnd.jupyter.widget-view+json": {
       "model_id": "dae8b5a6905e4567840e621a3863a9cc",
       "version_major": 2,
       "version_minor": 0
      },
      "text/plain": [
       "Features loop:   0%|          | 0/91 [00:00<?, ?it/s]"
      ]
     },
     "metadata": {},
     "output_type": "display_data"
    },
    {
     "data": {
      "application/vnd.jupyter.widget-view+json": {
       "model_id": "",
       "version_major": 2,
       "version_minor": 0
      },
      "text/plain": [
       "Folds... : 0it [00:00, ?it/s]"
      ]
     },
     "metadata": {},
     "output_type": "display_data"
    },
    {
     "data": {
      "application/vnd.jupyter.widget-view+json": {
       "model_id": "",
       "version_major": 2,
       "version_minor": 0
      },
      "text/plain": [
       "Folds... : 0it [00:00, ?it/s]"
      ]
     },
     "metadata": {},
     "output_type": "display_data"
    },
    {
     "data": {
      "application/vnd.jupyter.widget-view+json": {
       "model_id": "",
       "version_major": 2,
       "version_minor": 0
      },
      "text/plain": [
       "Folds... : 0it [00:00, ?it/s]"
      ]
     },
     "metadata": {},
     "output_type": "display_data"
    },
    {
     "data": {
      "application/vnd.jupyter.widget-view+json": {
       "model_id": "",
       "version_major": 2,
       "version_minor": 0
      },
      "text/plain": [
       "Folds... : 0it [00:00, ?it/s]"
      ]
     },
     "metadata": {},
     "output_type": "display_data"
    },
    {
     "data": {
      "application/vnd.jupyter.widget-view+json": {
       "model_id": "",
       "version_major": 2,
       "version_minor": 0
      },
      "text/plain": [
       "Folds... : 0it [00:00, ?it/s]"
      ]
     },
     "metadata": {},
     "output_type": "display_data"
    },
    {
     "data": {
      "application/vnd.jupyter.widget-view+json": {
       "model_id": "",
       "version_major": 2,
       "version_minor": 0
      },
      "text/plain": [
       "Folds... : 0it [00:00, ?it/s]"
      ]
     },
     "metadata": {},
     "output_type": "display_data"
    },
    {
     "data": {
      "application/vnd.jupyter.widget-view+json": {
       "model_id": "",
       "version_major": 2,
       "version_minor": 0
      },
      "text/plain": [
       "Folds... : 0it [00:00, ?it/s]"
      ]
     },
     "metadata": {},
     "output_type": "display_data"
    },
    {
     "data": {
      "application/vnd.jupyter.widget-view+json": {
       "model_id": "",
       "version_major": 2,
       "version_minor": 0
      },
      "text/plain": [
       "Folds... : 0it [00:00, ?it/s]"
      ]
     },
     "metadata": {},
     "output_type": "display_data"
    },
    {
     "data": {
      "application/vnd.jupyter.widget-view+json": {
       "model_id": "",
       "version_major": 2,
       "version_minor": 0
      },
      "text/plain": [
       "Folds... : 0it [00:00, ?it/s]"
      ]
     },
     "metadata": {},
     "output_type": "display_data"
    },
    {
     "data": {
      "application/vnd.jupyter.widget-view+json": {
       "model_id": "",
       "version_major": 2,
       "version_minor": 0
      },
      "text/plain": [
       "Folds... : 0it [00:00, ?it/s]"
      ]
     },
     "metadata": {},
     "output_type": "display_data"
    },
    {
     "data": {
      "application/vnd.jupyter.widget-view+json": {
       "model_id": "",
       "version_major": 2,
       "version_minor": 0
      },
      "text/plain": [
       "Folds... : 0it [00:00, ?it/s]"
      ]
     },
     "metadata": {},
     "output_type": "display_data"
    },
    {
     "data": {
      "application/vnd.jupyter.widget-view+json": {
       "model_id": "aea1123076494e7d95d894920fc04518",
       "version_major": 2,
       "version_minor": 0
      },
      "text/plain": [
       "Folds... : 0it [00:00, ?it/s]"
      ]
     },
     "metadata": {},
     "output_type": "display_data"
    }
   ],
   "source": [
    "from xgboost import XGBRegressor\n",
    "from sklearn.model_selection import KFold\n",
    "\n",
    "if features_selection:\n",
    "    opt_features = []\n",
    "    current_metrics = []\n",
    "    current_metric_stds = []\n",
    "    raw_mape_scores = []\n",
    "\n",
    "    features = data.iloc[:, :-5].columns\n",
    "    features = features.drop(opt_features)\n",
    "    \n",
    "    df_plot = pd.DataFrame()\n",
    "\n",
    "    while True:\n",
    "        \n",
    "        mape_scores_list = []\n",
    "        metrics = []\n",
    "        metric_stds = []\n",
    "        \n",
    "        for feature in tqdm(features, \"Features loop\"):\n",
    "            mape_scores = []\n",
    "            kfold = KFold(n_folds, shuffle=True, random_state=random_state)   \n",
    "            \n",
    "            for train, test in tqdm(kfold.split(np.array(data)), \"Folds... \", leave=False):        \n",
    "                X = data.iloc[:, :-5][opt_features+[feature]]\n",
    "                y = data.iloc[:, -5]\n",
    "\n",
    "                xgbreg = XGBRegressor(\n",
    "                    max_depth=max_depth,\n",
    "                    learning_rate=0.08,\n",
    "                    n_estimators=10000,\n",
    "                    random_state=random_state,\n",
    "                    tree_method='gpu_hist',\n",
    "                )\n",
    "\n",
    "                X_train = X.iloc[train, :]\n",
    "                y_train = y.iloc[train]\n",
    "\n",
    "                X_test = X.iloc[test, :]\n",
    "                y_test = y.iloc[test]\n",
    "\n",
    "                xgbreg.fit(X_train, y_train,\n",
    "                           verbose=False,\n",
    "                           eval_set=[(X_val[opt_features+[feature]], y_val)],\n",
    "                           early_stopping_rounds=early_stopping_rounds)\n",
    "\n",
    "                y_predict = xgbreg.predict(X_test)\n",
    "                mape = mean_absolute_percentage_error(y_test, y_predict)\n",
    "                mape_scores.append(mape)\n",
    "            \n",
    "            metric = np.mean(mape_scores)\n",
    "            metric_std = np.std(mape_scores)\n",
    "            metrics.append(metric)\n",
    "            metric_stds.append(metric_std)\n",
    "            mape_scores_list.append(mape_scores)\n",
    "        \n",
    "        best_metric_ind = np.argmin(metrics)\n",
    "        current_metric = metrics[best_metric_ind]\n",
    "        current_metrics.append(current_metric)\n",
    "\n",
    "        current_metric_std = metric_stds[best_metric_ind]\n",
    "        current_metric_stds.append(current_metric_std)\n",
    "        \n",
    "        raw_mape_scores.append(mape_scores_list[best_metric_ind])\n",
    "\n",
    "        opt_features.append(features[best_metric_ind])\n",
    "        features = features.drop(features[best_metric_ind])\n",
    "\n",
    "        print(current_metrics)\n",
    "        print(current_metric_stds)\n",
    "        print(opt_features)\n",
    "\n",
    "        np.savez_compressed('feature_selection/opt_features.npz', a=np.array(opt_features))\n",
    "        np.savez_compressed('feature_selection/current_metrics.npz', a=np.array(current_metrics))\n",
    "        np.savez_compressed('feature_selection/current_metric_stds.npz', a=np.array(current_metric_stds))\n",
    "        np.savez_compressed('feature_selection/raw_mape_scores.npz', a=np.array(raw_mape_scores))\n",
    "\n",
    "        run['opt_features'] = opt_features\n",
    "        run['current_metrics'] = current_metrics\n",
    "        run['current_metric_stds'] = current_metric_stds\n",
    "        run['raw_mape_scores'] = raw_mape_scores\n",
    "\n",
    "        df = pd.DataFrame([opt_features]).T\n",
    "        df.columns = ['Added feature']\n",
    "        df['MAPE, %'] = current_metrics\n",
    "        df['current_metric_stds'] = current_metric_stds\n",
    "        df['Number of features'] = len(opt_features)\n",
    "        df_plot = df_plot.append(df)\n",
    "        \n",
    "        plot_results(df_plot)\n",
    "        \n",
    "        cond1 = current_metrics[-1] > np.min(current_metrics)\n",
    "        cond2 = len(current_metrics)-1 - np.argmin(current_metrics) >= early_stopping_rounds \n",
    "        \n",
    "        if cond1 and cond2:\n",
    "            opt_features = opt_features[:-early_stopping_rounds]\n",
    "            current_metrics = current_metrics[:-early_stopping_rounds]\n",
    "            current_metric_stds = current_metric_stds[:-early_stopping_rounds]\n",
    "            raw_mape_scores = raw_mape_scores[:-early_stopping_rounds]\n",
    "\n",
    "            np.savez_compressed('feature_selection/opt_features.npz', a=np.array(opt_features))\n",
    "            np.savez_compressed('feature_selection/current_metrics.npz', a=np.array(current_metrics))\n",
    "            np.savez_compressed('feature_selection/current_metric_stds.npz', a=np.array(current_metric_stds))\n",
    "            np.savez_compressed('feature_selection/raw_mape_scores.npz', a=np.array(raw_mape_scores))\n",
    "\n",
    "            plot_results(df_plot, break_flag=True)\n",
    "            break"
   ]
  },
  {
   "cell_type": "code",
   "execution_count": null,
   "id": "fc4f7a72",
   "metadata": {},
   "outputs": [],
   "source": [
    "import plotly.graph_objs as go\n",
    "from plotly.subplots import make_subplots\n",
    "\n",
    "current_metrics = np.load('feature_selection/current_metrics.npz', allow_pickle=True)['a']\n",
    "opt_features = np.load('feature_selection/opt_features.npz', allow_pickle=True)['a']\n",
    "current_metric_stds = np.load('feature_selection/current_metric_stds.npz', allow_pickle=True)['a']\n",
    "ind = np.argmin(current_metrics)\n",
    "\n",
    "fig = go.Figure()\n",
    "\n",
    "fig.add_trace(\n",
    "    go.Scatter(\n",
    "        x=opt_features,\n",
    "        y=current_metrics,\n",
    "        error_y=dict(\n",
    "            type='data',\n",
    "            width=10,\n",
    "            array=current_metric_stds\n",
    "        ),\n",
    "        marker=dict(\n",
    "            color='black'\n",
    "        )\n",
    "    )\n",
    ")\n",
    "\n",
    "fig.add_vline(\n",
    "    x=opt_features[ind],\n",
    "    line=dict(\n",
    "        dash='dash',\n",
    "        width=4,\n",
    "        color='darkred',\n",
    "    ),\n",
    "    opacity=0.75\n",
    ")\n",
    "\n",
    "fig.update_yaxes(title='MAPE, %')\n",
    "fig.update_xaxes(title='Added feature')\n",
    "\n",
    "fig.update_layout(\n",
    "\n",
    "    xaxis = dict(\n",
    "        showline=True,\n",
    "        ticks='outside',\n",
    "        mirror=True,\n",
    "        linecolor='black',\n",
    "        showgrid=True,\n",
    "        gridcolor='grey',\n",
    "        gridwidth=0.25,\n",
    "    ),\n",
    "\n",
    "    yaxis = dict(\n",
    "        showline=True,\n",
    "        ticks='outside',\n",
    "        mirror=True,\n",
    "        linecolor='black',\n",
    "        tick0=0,\n",
    "        showgrid=True,\n",
    "        gridcolor='grey',\n",
    "        gridwidth=0.25,\n",
    "        zeroline=True,\n",
    "        zerolinecolor='black',\n",
    "        zerolinewidth=0.25\n",
    "    ),\n",
    "    \n",
    "    font=dict(\n",
    "        family=\"Times New Roman\",\n",
    "        size=16,\n",
    "        color=\"Black\"\n",
    "    )\n",
    ")\n",
    "\n",
    "fig.show()\n",
    "pio.write_image(fig, 'feature_selection/feature_selection_es_BDT.pdf',\n",
    "                width=950, height=600)\n",
    "run[\"plot_results\"].upload(File.as_html(fig))"
   ]
  },
  {
   "cell_type": "code",
   "execution_count": null,
   "id": "21a6de13",
   "metadata": {},
   "outputs": [],
   "source": []
  }
 ],
 "metadata": {
  "kernelspec": {
   "display_name": "Python 3 (ipykernel)",
   "language": "python",
   "name": "python3"
  },
  "language_info": {
   "codemirror_mode": {
    "name": "ipython",
    "version": 3
   },
   "file_extension": ".py",
   "mimetype": "text/x-python",
   "name": "python",
   "nbconvert_exporter": "python",
   "pygments_lexer": "ipython3",
   "version": "3.9.15"
  }
 },
 "nbformat": 4,
 "nbformat_minor": 5
}
